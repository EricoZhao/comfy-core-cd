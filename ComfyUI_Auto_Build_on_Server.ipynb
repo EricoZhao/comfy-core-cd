{
 "cells": [
  {
   "cell_type": "markdown",
   "metadata": {
    "id": "3cKnUNUwUayn"
   },
   "source": [
    "# ComfyUI (Backend) Server Installation and Configuration Guide\n"
   ]
  },
  {
   "cell_type": "markdown",
   "metadata": {
    "id": "AhCZEEKDXcUE"
   },
   "source": [
    "## Summary\n",
    "This Notebook helps you automate the installation and configuration of ComfyUI, including the following steps:\n",
    "1. Download ComfyUI: Get the history of versions and select one to download.\n",
    "2. Set paths: configure extra_model_paths.yaml.\n",
    "3. Install dependencies: Create a Conda virtual environment and install the required dependencies.\n",
    "4. Run ComfyUI: Starts the ComfyUI service and saves the logs to the specified location.\n",
    "\n",
    "Please follow the steps one by one, the system will automatically complete the download, installation and configuration tasks.\n",
    "\n"
   ]
  },
  {
   "cell_type": "markdown",
   "metadata": {
    "id": "nyZf__g5U84K"
   },
   "source": [
    "## Procedure for Use\n"
   ]
  },
  {
   "cell_type": "markdown",
   "metadata": {
    "id": "gwgOTipYYD0p"
   },
   "source": [
    "### 1. Download ComfyUI\n",
    "This step will collect all the historical Releases versions of ComfyUI on GitHub, you need to select a version to download."
   ]
  },
  {
   "cell_type": "code",
   "execution_count": null,
   "metadata": {
    "colab": {
     "base_uri": "https://localhost:8080/"
    },
    "id": "8uAgq7uRVgAQ",
    "outputId": "f1465eca-4571-4787-ebb0-a82741a46775"
   },
   "outputs": [],
   "source": [
    "import requests\n",
    "\n",
    "def get_comfyui_versions():\n",
    "    releases_url = \"https://api.github.com/repos/comfyanonymous/ComfyUI/releases\"\n",
    "    response = requests.get(releases_url)\n",
    "    releases = response.json()\n",
    "    versions = [release['tag_name'] for release in releases]\n",
    "    return versions\n",
    "\n",
    "versions = get_comfyui_versions()\n",
    "print(\"  \".join(versions))"
   ]
  },
  {
   "cell_type": "markdown",
   "metadata": {
    "id": "XlCkdgPGXqS-"
   },
   "source": [
    "Enter the version number you choose, for example, v1.2.3, the system will download the corresponding version of ComfyUI and unzip it to the current directory."
   ]
  },
  {
   "cell_type": "code",
   "execution_count": null,
   "metadata": {
    "id": "vBR2r5l7a_cv"
   },
   "outputs": [],
   "source": [
    "%%bash\n",
    "\n",
    "# Modify customized parameters\n",
    "export COMFYUI_VERSION=\"v0.3.10\"\n",
    "\n",
    "\n",
    "echo \"COMFYUI_VERSION=$COMFYUI_VERSION\" >> env_vars.txt"
   ]
  },
  {
   "cell_type": "code",
   "execution_count": null,
   "metadata": {
    "colab": {
     "base_uri": "https://localhost:8080/"
    },
    "id": "DexzpGX_Xp2y",
    "outputId": "e2d50fc9-d878-4893-fb7c-a65a00f5c28b"
   },
   "outputs": [],
   "source": [
    "%%bash\n",
    "\n",
    "source env_vars.txt\n",
    "\n",
    "version=$COMFYUI_VERSION\n",
    "url=\"https://github.com/comfyanonymous/ComfyUI/archive/refs/tags/$version.tar.gz\"\n",
    "tarball=\"ComfyUI-$version.tar.gz\"\n",
    "\n",
    "curl -L -o $tarball $url\n",
    "tar -xzf $tarball\n",
    "\n",
    "echo \"Download and Unzip complete: $tarball\"\n",
    "\n",
    "dirname=$(tar -tf $tarball | head -1 | cut -f1 -d\"/\")\n",
    "\n",
    "if [ -d \"$dirname\" ];then\n",
    "  mv \"$dirname\" \"ComfyUI\"\n",
    "  echo \"The folder has been renamed to: ComfyUI\"\n",
    "  rm $tarball\n",
    "else\n",
    "  echo \"Can't find the unzipped folder. $dirname\"\n",
    "fi"
   ]
  },
  {
   "cell_type": "markdown",
   "metadata": {
    "id": "ag9YpRhHZDi8"
   },
   "source": [
    "### 2. Setting the path\n",
    "This step will modify the ComfyUI official document about the folder loading path and migrate the modified related folder to the specified target location."
   ]
  },
  {
   "cell_type": "markdown",
   "metadata": {
    "id": "26dGyHjzMyWw"
   },
   "source": [
    "Modify the ComfyUI folder path index."
   ]
  },
  {
   "cell_type": "code",
   "execution_count": null,
   "metadata": {
    "colab": {
     "base_uri": "https://localhost:8080/"
    },
    "id": "GG28kMGBV0Z2",
    "outputId": "0ffedc32-1173-4cf5-cda6-e84f704b881c"
   },
   "outputs": [],
   "source": [
    "%%bash\n",
    "\n",
    "export CURRENT_DIR=$(pwd)\n",
    "\n",
    "# Modify customized parameters\n",
    "export COMFYUI_NAME=\"ComfyUI\" # comfyui project name\n",
    "export TARGET_NAME=\"autodl-tmp\" # Name of the target folder to be migrated\n",
    "\n",
    "\n",
    "export COMFYUI_DIR=\"$CURRENT_DIR/$COMFYUI_NAME\"\n",
    "export TARGET_DIR=\"$CURRENT_DIR/$TARGET_NAME\"\n",
    "\n",
    "echo \"ComfyUI path is: $COMFYUI_DIR\"\n",
    "echo \"Transfer to the target path as: $TARGET_DIR\"\n",
    "\n",
    "echo \"CURRENT_DIR=$CURRENT_DIR\" >> env_vars.txt\n",
    "echo \"COMFYUI_NAME=$COMFYUI_NAME\" >> env_vars.txt\n",
    "echo \"TARGET_NAME=$TARGET_NAME\" >> env_vars.txt\n",
    "echo \"COMFYUI_DIR=$COMFYUI_DIR\" >> env_vars.txt\n",
    "echo \"TARGET_DIR=$TARGET_DIR\" >> env_vars.txt"
   ]
  },
  {
   "cell_type": "code",
   "execution_count": null,
   "metadata": {
    "id": "Pf8Kg_9fGpXH"
   },
   "outputs": [],
   "source": [
    "import os\n",
    "\n",
    "def get_env():\n",
    "  with open(\"env_vars.txt\", \"r\") as file:\n",
    "    for line in file:\n",
    "      key, value = line.strip().split(\"=\")\n",
    "      os.environ[key] = value"
   ]
  },
  {
   "cell_type": "code",
   "execution_count": null,
   "metadata": {
    "colab": {
     "base_uri": "https://localhost:8080/"
    },
    "id": "wOOTRgsFM_cI",
    "outputId": "4c51fee7-5600-42c7-ab47-f394f2de8d67"
   },
   "outputs": [],
   "source": [
    "get_env()\n",
    "\n",
    "comfyui_dir = os.getenv('COMFYUI_DIR')\n",
    "target_name = os.getenv('TARGET_NAME')\n",
    "\n",
    "file_path = f'{comfyui_dir}/folder_paths.py'\n",
    "old_line = 'base_path = os.path.dirname(os.path.realpath(__file__))'  # models_dir = os.path.join(base_path, \"models\")\n",
    "new_lines = [\n",
    "    'current_path = os.path.dirname(os.path.realpath(__file__))',\n",
    "    'parent_path = os.path.dirname(current_path)',\n",
    "    f'base_path = os.path.join(parent_path, \"{target_name}\")'\n",
    "]\n",
    "\n",
    "with open(file_path, 'r') as file:\n",
    "    lines = file.readlines()\n",
    "\n",
    "with open(file_path, 'w') as file:\n",
    "    for line in lines:\n",
    "        if old_line in line:\n",
    "            for new_line in new_lines:\n",
    "                file.write(new_line + '\\n')\n",
    "        else:\n",
    "            file.write(line)\n",
    "\n",
    "print(f\"file {file_path} is modification completed\")"
   ]
  },
  {
   "cell_type": "code",
   "execution_count": null,
   "metadata": {
    "id": "PmdteLNiOCrx"
   },
   "outputs": [],
   "source": [
    "%%bash\n",
    "\n",
    "source env_vars.txt\n",
    "\n",
    "folders=(\"custom_nodes\" \"models\")\n",
    "\n",
    "moved_folders=()\n",
    "for folder in \"${folders[@]}\"; do\n",
    "    if [ -d \"$COMFYUI_DIR/$folder\" ]; then\n",
    "        rsync -av --remove-source-files \"$COMFYUI_DIR/$folder\" \"$TARGET_DIR/\"\n",
    "        find \"$COMFYUI_DIR/$folder\" -type d -empty -delete\n",
    "        moved_folders+=(\"$folder\")\n",
    "    else\n",
    "        echo \"$folder folder does not exist\"\n",
    "    fi\n",
    "done\n",
    "\n",
    "if [ ${#moved_folders[@]} -eq ${#folders[@]} ]; then\n",
    "    echo \"Movements all complete: ${moved_folders[*]}\"\n",
    "else\n",
    "    echo \"Movements completed: ${moved_folders[*]}\"\n",
    "fi\n"
   ]
  },
  {
   "cell_type": "markdown",
   "metadata": {
    "id": "UZhQMyliq_7N"
   },
   "source": [
    "---\n",
    "\n",
    "******************  Model Position ⚓  ******************\n",
    "\n",
    "\n",
    "---\n",
    "\n",
    "\n",
    "\n"
   ]
  },
  {
   "cell_type": "code",
   "execution_count": null,
   "metadata": {
    "id": "Xqz48z9IrEtY"
   },
   "outputs": [],
   "source": [
    "get_env()\n",
    "\n",
    "comfyui_dir = os.getenv('COMFYUI_DIR')\n",
    "target_dir = os.getenv('TARGET_DIR')\n",
    "\n",
    "os.makedirs(os.path.join(target_dir, \"DiM\"), exist_ok=True)\n",
    "\n",
    "content = f\"\"\"\n",
    "other_ui:\n",
    "   base_path: {target_dir}/DiM\n",
    "   unet: |\n",
    "      BlackForestLabs/Model\n",
    "      TOOLS/ic-light/unet\n",
    "   checkpoints: |\n",
    "      Stability/Model\n",
    "      BlackForestLabs/Model/Flux1/pruned/merge\n",
    "   style_models: |\n",
    "      BlackForestLabs/Model/Flux1/inpainting\n",
    "\n",
    "   vae: |\n",
    "      TOOLS/vae\n",
    "   loras: |\n",
    "      BlackForestLabs/LoRA\n",
    "      Stability/LoRA\n",
    "   controlnet: |\n",
    "      TOOLS/controlnet\n",
    "   ipadapter: |\n",
    "      TOOLS/ipadapter\n",
    "\n",
    "   clip: |\n",
    "      TOOLS/clip\n",
    "   clip_vision: |\n",
    "      TOOLS/clip_vision\n",
    "\n",
    "   sams: |\n",
    "      TOOLS/sams\n",
    "   grounding-dino: |\n",
    "      TOOLS/grounding-dino\n",
    "\n",
    "   upscale_models: |\n",
    "      TOOLS/upscale_models\n",
    "   rembg: |\n",
    "      TOOLS/rembg\n",
    "\"\"\"\n",
    "\n",
    "file_path = os.path.join(comfyui_dir, \"extra_model_paths.yaml\")\n",
    "with open(file_path, \"w\") as file:\n",
    "    file.write(content)\n",
    "\n",
    "print(f\"extra_model_paths.yaml file has been created and added content to the {file_path}\")"
   ]
  },
  {
   "cell_type": "markdown",
   "metadata": {
    "id": "uQ08KSFSd7H8"
   },
   "source": [
    "### 3. Installation of dependencies\n",
    "This step creates a virtual environment for ComfyUI to use and installs all dependencies by specifying the image source."
   ]
  },
  {
   "cell_type": "code",
   "execution_count": null,
   "metadata": {
    "id": "sDfqlc97isjP"
   },
   "outputs": [],
   "source": [
    "%%bash\n",
    "\n",
    "export ENV_NAME=\"comfyui\"\n",
    "export PYTHON_VERSION=\"3.12.8\"\n",
    "export PYPI_MIRROR=\"https://pypi.tuna.tsinghua.edu.cn/simple\" # pypi Tsinghua Mirror Source\n",
    "\n",
    "\n",
    "echo \"ENV_NAME=$ENV_NAME\" >> env_vars.txt\n",
    "echo \"PYTHON_VERSION=$PYTHON_VERSION\" >> env_vars.txt\n",
    "echo \"PYPI_MIRROR=$PYPI_MIRROR\" >> env_vars.txt"
   ]
  },
  {
   "cell_type": "code",
   "execution_count": null,
   "metadata": {
    "id": "bxgh7hEKi9mH"
   },
   "outputs": [],
   "source": [
    "%%bash\n",
    "\n",
    "source env_vars.txt\n",
    "\n",
    "# conda create -n \"$ENV_NAME\" python=\"$PYTHON_VERSION\" -y\n",
    "# echo \"Creating a Virtual Environment $ENV_NAME Sucessfully\"\n",
    "\n",
    "# conda activate \"$ENV_NAME\"\n",
    "\n",
    "if [ -n \"$PYPI_MIRROR\" ]; then\n",
    "    python -m pip config set global.index-url $PYPI_MIRROR\n",
    "fi\n",
    "\n",
    "pip install -r \"$COMFYUI_DIR/requirements.txt\"\n",
    "echo \"Dependencies installed complete\""
   ]
  },
  {
   "cell_type": "markdown",
   "metadata": {
    "id": "8qzkY9gPk1ls"
   },
   "source": [
    "---\n",
    "\n",
    "******************  预安装插件 🎯  ******************\n",
    "\n",
    "\n",
    "---\n",
    "\n",
    "\n",
    "\n"
   ]
  },
  {
   "cell_type": "code",
   "execution_count": null,
   "metadata": {
    "id": "Nl2M8EyrW6y1"
   },
   "outputs": [],
   "source": [
    "%%bash\n",
    "\n",
    "ADDON_LIST=(\n",
    "    https://github.com/ltdrdata/ComfyUI-Manager.git # ComfyUI Plugin Management\n",
    "    https://github.com/ltdrdata/ComfyUI-Impact-Pack.git # Functional node set\n",
    ")\n",
    "\n",
    "\n",
    "echo \"ADDON_LIST=('$ADDON_LIST[@]')\" >> env_vars.txt"
   ]
  },
  {
   "cell_type": "code",
   "execution_count": null,
   "metadata": {
    "id": "C9dbwQ0KkTpI"
   },
   "outputs": [],
   "source": [
    "%%bash\n",
    "\n",
    "source env_vars.txt\n",
    "\n",
    "cd $TARGET_DIR/custom_nodes\n",
    "\n",
    "for addon in \"${ADDON_LIST[@]}\"; do\n",
    "  git clone \"$addon\"\n",
    "\n",
    "  addon_name=$(basename \"$addon\" .git)\n",
    "\n",
    "  if [ -f \"$addon_name/requirements.txt\" ]; then\n",
    "    pip install -r \"$addon_name/requirements.txt\"\n",
    "  fi\n",
    "\n",
    "  echo \"Installation has down: $addon_name\"\n",
    "done"
   ]
  },
  {
   "cell_type": "markdown",
   "metadata": {
    "id": "LCIclE1_7pAe"
   },
   "source": [
    "### 4. Run ComfyUI\n",
    "In the last step, go into the created Conda virtual environment and run ComfyUI. the program will start and listen on port 6006 with low video memory mode (--lowvram) enabled."
   ]
  },
  {
   "cell_type": "code",
   "execution_count": null,
   "metadata": {
    "id": "C7Txuoai8ZwR"
   },
   "outputs": [],
   "source": [
    "%%bash\n",
    "\n",
    "export LISTEN_PORT=6006\n",
    "export EXTRA_OPS=(\"--lowvram\")\n",
    "\n",
    "\n",
    "echo \"LISTEN_PORT=$LISTEN_PORT\" >> env_vars.txt\n",
    "echo \"EXTRA_OPS=$EXTRA_OPS\" >> env_vars.txt"
   ]
  },
  {
   "cell_type": "code",
   "execution_count": null,
   "metadata": {
    "id": "nOzPP6zusVmw"
   },
   "outputs": [],
   "source": [
    "%%bash\n",
    "\n",
    "source env_vars.txt\n",
    "\n",
    "LOGS_DIR=$COMFYUI_DIR/logs\n",
    "mkdir -p $LOGS_DIR\n",
    "\n",
    "echo \"LOGS_DIR=$LOGS_DIR\" >> env_vars.txt\n",
    "\n",
    "LOG_FILE=\"$LOGS_DIR/comfyui.log\"\n",
    "\n",
    "check_and_rename_log() {\n",
    "    DATE_SUFFIX=$(date +\"%Y%m%d_%H%M%S\")\n",
    "\n",
    "    if [ -e \"$LOG_FILE\" ]; then\n",
    "        mv \"$LOG_FILE\" \"$LOGS_DIR/comfyui_$DATE_SUFFIX.log\"\n",
    "        echo \"The old log file was renamed to $LOGS_DIR/comfyui_$DATE_SUFFIX.log\"\n",
    "    fi\n",
    "}\n",
    "\n",
    "start_service() {\n",
    "    echo \"Starting service...\"\n",
    "\n",
    "    check_and_rename_log\n",
    "\n",
    "    python $COMFYUI_DIR/main.py --listen --port $LISTEN_PORT ${EXTRA_OPS[*]} > \"$LOG_FILE\" 2>&1 &\n",
    "    SERVICE_PID=$!\n",
    "\n",
    "    echo \"The service is up and running, PID: $SERVICE_PID\"\n",
    "\n",
    "    if grep -q \"SERVICE_PID=\" env_vars.txt; then\n",
    "      sed -i \"s/^SERVICE_PID=.*/SERVICE_PID=$SERVICE_PID/\" env_vars.txt\n",
    "    else\n",
    "      echo \"SERVICE_PID=$SERVICE_PID\" >> env_vars.txt\n",
    "    fi\n",
    "}\n",
    "\n",
    "\n",
    "start_service"
   ]
  },
  {
   "cell_type": "markdown",
   "metadata": {
    "id": "OtZI4iEdMh5a"
   },
   "source": [
    "\n",
    "\n",
    "---\n",
    "\n",
    "---\n",
    "#### **View Log**\n",
    "\n",
    "\n",
    "Ongoing surveillance:   `source env_vars.txt && tail -f $LOGS_DIR/comfyui.log`  \n",
    "Head 50 lines:  `source env_vars.txt && head -n 50 $LOGS_DIR/comfyui.log`  \n",
    "Tail 50 lines:  `source env_vars.txt && tail -n 50 $LOGS_DIR/comfyui.log`\n",
    "\n",
    "\n",
    "Turn the page to view:  `source env_vars.txt && less -N +G -20 $LOGS_DIR/comfyui.log`\n",
    "\n",
    "> `less`    Page through the contents of the document.  \n",
    "> `-N`  Displays the line number at the beginning of each line.  \n",
    "> `+G`  Jumps directly to the end of the file.  \n",
    "> `-20` Displays 20 lines at a time.  \n",
    "\n",
    "> `Space` or `f`:  Page down.  \n",
    "> `b`:  Page up.  \n",
    "> `q`:  Exits less viewing mode.  \n",
    "> `g`:  Jump to the beginning of the file.  \n",
    "> `G`:  Jump to the end of the file.  \n",
    "> `CTRL+D`:  Scroll down half a page.  \n",
    "> `CTRL+U`:  Scroll up half a page.  \n",
    "\n"
   ]
  }
 ],
 "metadata": {
  "colab": {
   "provenance": [],
   "toc_visible": true
  },
  "kernelspec": {
   "display_name": "Python 3",
   "name": "python3"
  },
  "language_info": {
   "name": "python"
  }
 },
 "nbformat": 4,
 "nbformat_minor": 0
}
